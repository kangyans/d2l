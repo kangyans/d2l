{
  "nbformat": 4,
  "nbformat_minor": 0,
  "metadata": {
    "colab": {
      "provenance": [],
      "authorship_tag": "ABX9TyOetfk6o3a2vcDkioeUZEjy",
      "include_colab_link": true
    },
    "kernelspec": {
      "name": "python3",
      "display_name": "Python 3"
    },
    "language_info": {
      "name": "python"
    }
  },
  "cells": [
    {
      "cell_type": "markdown",
      "metadata": {
        "id": "view-in-github",
        "colab_type": "text"
      },
      "source": [
        "<a href=\"https://colab.research.google.com/github/kangyans/d2l/blob/main/py_issues.ipynb\" target=\"_parent\"><img src=\"https://colab.research.google.com/assets/colab-badge.svg\" alt=\"Open In Colab\"/></a>"
      ]
    },
    {
      "cell_type": "markdown",
      "source": [
        "The instatiation operation ('calling ' a class object) creates an empty object. Many classes like to **create objects with instances customizedt to specific initial state**. Therefore a class may define a special method named ```__init__()```, like this:"
      ],
      "metadata": {
        "id": "Y_YYTIO65QcM"
      }
    },
    {
      "cell_type": "code",
      "source": [
        "def __init__(self):\n",
        "  self.data = []"
      ],
      "metadata": {
        "id": "ezUfMNkz5slW"
      },
      "execution_count": 9,
      "outputs": []
    },
    {
      "cell_type": "markdown",
      "source": [
        "When a class defines an ```__init__()``` method, class instantiation automatically invokes ```__init__()``` for the newly created class instance. So in this example, a new, initialized instance can be obtained by:"
      ],
      "metadata": {
        "id": "lJIdFueD50b0"
      }
    },
    {
      "cell_type": "code",
      "source": [
        "class MyClass:\n",
        "  i = 12345\n",
        "\n",
        "  def f(self):\n",
        "    return 'hello world'\n",
        "\n",
        "x = MyClass()"
      ],
      "metadata": {
        "id": "uiObYREB6I0I"
      },
      "execution_count": 12,
      "outputs": []
    },
    {
      "cell_type": "markdown",
      "source": [
        "Of course, the ```__init__()``` method may have arguments for greater flexibility. In that case, arguments given to the class instantiation operator are passed on to ```__init__()```. For example,"
      ],
      "metadata": {
        "id": "NaLxpAqr6Ypt"
      }
    },
    {
      "cell_type": "code",
      "execution_count": null,
      "metadata": {
        "id": "LzE0e1nu11aA"
      },
      "outputs": [],
      "source": [
        "class Complex:\n",
        "  def __init__(self, realpart, imagpart):\n",
        "    self.r = realpart\n",
        "    self.i = imagpart\n",
        "\n",
        "x = Complex(3.0, -4.5)\n",
        "x.r, x.i\n"
      ]
    },
    {
      "cell_type": "markdown",
      "source": [
        "Valid method names of an instance object depend on its class. By definition , all attributes of a class that are function objects defien corresponding methods of its instances. So in our example, ```x.f``` is a valid method reference, since ```MyClass.f``` is a function, but ```x.i``` is not, since ```Class.i``` is not. But ```x.f``` is not the same thing as ```MyClass.f``` --- it is a *method object*, not a function object.\n",
        "\n",
        "Usually, a method is called right after it is bound:"
      ],
      "metadata": {
        "id": "c_n8VRkF_Laz"
      }
    },
    {
      "cell_type": "code",
      "source": [
        "x.f()"
      ],
      "metadata": {
        "id": "-8VPjhpoPWrd"
      },
      "execution_count": null,
      "outputs": []
    },
    {
      "cell_type": "markdown",
      "source": [
        "In the MyClass example, this will return the string ```hello world```. However, it is not necessary to call a method right away: ```a.f``` is a method object, and can be stored away and called at a later time.\n",
        "\n",
        "What exactly happens when a method is called? You may have noticed that ```x.f()``` was called without any argument above, even though the function definition for f() specified an argument. What happened to the argument? Surely Python raises an exception when a function that requires an argument is called without any --- even if the argument isn't acturally used..."
      ],
      "metadata": {
        "id": "oHMBYPKGPXuB"
      }
    },
    {
      "cell_type": "markdown",
      "source": [
        "As discussed in [A Word About Names and Objects](https://docs.python.org/3/tutorial/classes.html#tut-object), shared data can have possibly surprising effects with involving mutable objects such as lists and dictionaries. For example, the *tricks* list in the following code should not be used as a class variable because just a single list would be shared by all *Dog* instances:"
      ],
      "metadata": {
        "id": "aiCXEEfKReiJ"
      }
    },
    {
      "cell_type": "code",
      "source": [
        "class Dog:\n",
        "  tricks = []\n",
        "\n",
        "  def __init__(self, name):\n",
        "    self.name = name\n",
        "\n",
        "  def add_trick(self, trick):\n",
        "    self.tricks.append(trick)\n",
        "\n",
        "\n",
        "d = Dog('Fido')\n",
        "e = Dog('Buddy')\n",
        "\n",
        "d.add_trick('roll over')\n",
        "e.add_trick('play dead')\n",
        "\n",
        "d.tricks\n",
        "\n",
        "\n"
      ],
      "metadata": {
        "colab": {
          "base_uri": "https://localhost:8080/"
        },
        "id": "5Tp_CFWaQdpf",
        "outputId": "9e036e36-e864-4615-ed26-3b2390afe699"
      },
      "execution_count": 17,
      "outputs": [
        {
          "output_type": "execute_result",
          "data": {
            "text/plain": [
              "['roll over', 'play dead']"
            ]
          },
          "metadata": {},
          "execution_count": 17
        }
      ]
    }
  ]
}